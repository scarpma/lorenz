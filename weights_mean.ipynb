{
 "cells": [
  {
   "cell_type": "code",
   "execution_count": 54,
   "metadata": {},
   "outputs": [
    {
     "name": "stderr",
     "output_type": "stream",
     "text": [
      "W0523 00:11:14.583232 47729819418112 hdf5_format.py:221] No training configuration found in save file: the model was *not* compiled. Compile it manually.\n",
      "W0523 00:11:15.076770 47729819418112 hdf5_format.py:221] No training configuration found in save file: the model was *not* compiled. Compile it manually.\n"
     ]
    }
   ],
   "source": [
    "from db_utils import *\n",
    "path_gen = '../lorenz_wgangp3/runs/4/21000_gen.h5'\n",
    "path_critic = '../lorenz_wgangp3/runs/4/21000_critic.h5'\n",
    "\n",
    "def wasserstein_loss(y_true, y_pred):\n",
    "    return K.mean(y_true * y_pred)\n",
    "tensorflow.keras.losses.wasserstein_loss = wasserstein_loss\n",
    "gen = load_model(path_gen, custom_objects={'wasserstein_loss': wasserstein_loss})\n",
    "critic = load_model(path_critic, custom_objects={'wasserstein_loss': wasserstein_loss})"
   ]
  },
  {
   "cell_type": "code",
   "execution_count": 55,
   "metadata": {},
   "outputs": [
    {
     "name": "stdout",
     "output_type": "stream",
     "text": [
      "### dense ### \n",
      "\n",
      "0.0025757165 \t 0.014317016 \t (100, 3200)\n",
      "0.010761658 \t 0.025613612 \t (3200,)\n",
      "### re_lu ### \n",
      "\n",
      "### reshape ### \n",
      "\n",
      "### batch_normalization ### \n",
      "\n",
      "0.9495368 \t 0.054373387 \t (128,)\n",
      "0.110118955 \t 0.13087197 \t (128,)\n",
      "0.064314954 \t 0.0041269725 \t (128,)\n",
      "0.008299782 \t 0.00047489768 \t (128,)\n",
      "### conv2d_transpose ### \n",
      "\n",
      "-0.0020136414 \t 0.014022563 \t (20, 1, 64, 128)\n",
      "-0.08937523 \t 0.05399671 \t (64,)\n",
      "### re_lu_1 ### \n",
      "\n",
      "### batch_normalization_1 ### \n",
      "\n",
      "0.95045125 \t 0.030810533 \t (64,)\n",
      "0.1323117 \t 0.15167683 \t (64,)\n",
      "0.28503636 \t 0.062313683 \t (64,)\n",
      "0.33987188 \t 0.12796205 \t (64,)\n",
      "### conv2d_transpose_1 ### \n",
      "\n",
      "-0.0023751252 \t 0.015270708 \t (20, 1, 32, 64)\n",
      "-0.054959364 \t 0.0510063 \t (32,)\n",
      "### re_lu_2 ### \n",
      "\n",
      "### batch_normalization_2 ### \n",
      "\n",
      "0.9655362 \t 0.07757273 \t (32,)\n",
      "0.04604089 \t 0.104943275 \t (32,)\n",
      "0.05912006 \t 0.061515614 \t (32,)\n",
      "0.022181598 \t 0.027516445 \t (32,)\n",
      "### conv2d_transpose_2 ### \n",
      "\n",
      "-0.005035859 \t 0.023750335 \t (20, 1, 16, 32)\n",
      "-0.019207826 \t 0.059449576 \t (16,)\n",
      "### re_lu_3 ### \n",
      "\n",
      "### batch_normalization_3 ### \n",
      "\n",
      "0.9908979 \t 0.1648886 \t (16,)\n",
      "0.08232461 \t 0.10945431 \t (16,)\n",
      "0.043659683 \t 0.039392468 \t (16,)\n",
      "0.009352922 \t 0.009066917 \t (16,)\n",
      "### conv2d_transpose_3 ### \n",
      "\n",
      "-4.5557135e-05 \t 0.015687732 \t (20, 1, 8, 16)\n",
      "-0.0035503386 \t 0.035749666 \t (8,)\n",
      "### re_lu_4 ### \n",
      "\n",
      "### batch_normalization_4 ### \n",
      "\n",
      "1.1111224 \t 0.0477078 \t (8,)\n",
      "0.0020589302 \t 0.009375669 \t (8,)\n",
      "0.060890555 \t 0.029671278 \t (8,)\n",
      "0.008065988 \t 0.00431457 \t (8,)\n",
      "### conv2d_transpose_4 ### \n",
      "\n",
      "0.0033040089 \t 0.07129166 \t (20, 1, 1, 8)\n",
      "-0.0024094621 \t 0.0 \t (1,)\n",
      "### activation ### \n",
      "\n",
      "### reshape_1 ### \n",
      "\n"
     ]
    }
   ],
   "source": [
    "import numpy as np\n",
    "npa = np.array([0.])\n",
    "for l in gen.layers:\n",
    "    w = l.get_weights()\n",
    "    if type(w)==type(npa):\n",
    "        print(w.mean(),'\\t', w.std(),'\\t', w.shape)\n",
    "    else:\n",
    "        print('###',l.name,'###','\\n')\n",
    "        for ww in w:\n",
    "            if (type(ww)==type(npa)):\n",
    "                print(ww.mean(),'\\t', ww.std(),'\\t', ww.shape)\n",
    "            else:\n",
    "                print(type(ww))\n",
    "# <class 'list'>"
   ]
  },
  {
   "cell_type": "code",
   "execution_count": null,
   "metadata": {},
   "outputs": [],
   "source": []
  }
 ],
 "metadata": {
  "kernelspec": {
   "display_name": "Python 3",
   "language": "python",
   "name": "python3"
  },
  "language_info": {
   "codemirror_mode": {
    "name": "ipython",
    "version": 3
   },
   "file_extension": ".py",
   "mimetype": "text/x-python",
   "name": "python",
   "nbconvert_exporter": "python",
   "pygments_lexer": "ipython3",
   "version": "3.6.8"
  }
 },
 "nbformat": 4,
 "nbformat_minor": 4
}
