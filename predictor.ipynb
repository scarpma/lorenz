{
 "cells": [
  {
   "cell_type": "markdown",
   "metadata": {},
   "source": [
    "## Import modules"
   ]
  },
  {
   "cell_type": "code",
   "execution_count": 1,
   "metadata": {},
   "outputs": [
    {
     "name": "stderr",
     "output_type": "stream",
     "text": [
      "/usr/local/tensorflow/1.14-0/lib/python3.6/site-packages/tensorflow/python/framework/dtypes.py:516: FutureWarning: Passing (type, 1) or '1type' as a synonym of type is deprecated; in a future version of numpy, it will be understood as (type, (1,)) / '(1,)type'.\n",
      "  _np_qint8 = np.dtype([(\"qint8\", np.int8, 1)])\n",
      "/usr/local/tensorflow/1.14-0/lib/python3.6/site-packages/tensorflow/python/framework/dtypes.py:517: FutureWarning: Passing (type, 1) or '1type' as a synonym of type is deprecated; in a future version of numpy, it will be understood as (type, (1,)) / '(1,)type'.\n",
      "  _np_quint8 = np.dtype([(\"quint8\", np.uint8, 1)])\n",
      "/usr/local/tensorflow/1.14-0/lib/python3.6/site-packages/tensorflow/python/framework/dtypes.py:518: FutureWarning: Passing (type, 1) or '1type' as a synonym of type is deprecated; in a future version of numpy, it will be understood as (type, (1,)) / '(1,)type'.\n",
      "  _np_qint16 = np.dtype([(\"qint16\", np.int16, 1)])\n",
      "/usr/local/tensorflow/1.14-0/lib/python3.6/site-packages/tensorflow/python/framework/dtypes.py:519: FutureWarning: Passing (type, 1) or '1type' as a synonym of type is deprecated; in a future version of numpy, it will be understood as (type, (1,)) / '(1,)type'.\n",
      "  _np_quint16 = np.dtype([(\"quint16\", np.uint16, 1)])\n",
      "/usr/local/tensorflow/1.14-0/lib/python3.6/site-packages/tensorflow/python/framework/dtypes.py:520: FutureWarning: Passing (type, 1) or '1type' as a synonym of type is deprecated; in a future version of numpy, it will be understood as (type, (1,)) / '(1,)type'.\n",
      "  _np_qint32 = np.dtype([(\"qint32\", np.int32, 1)])\n",
      "/usr/local/tensorflow/1.14-0/lib/python3.6/site-packages/tensorflow/python/framework/dtypes.py:525: FutureWarning: Passing (type, 1) or '1type' as a synonym of type is deprecated; in a future version of numpy, it will be understood as (type, (1,)) / '(1,)type'.\n",
      "  np_resource = np.dtype([(\"resource\", np.ubyte, 1)])\n",
      "/usr/local/tensorflow/1.14-0/lib/python3.6/site-packages/tensorboard/compat/tensorflow_stub/dtypes.py:541: FutureWarning: Passing (type, 1) or '1type' as a synonym of type is deprecated; in a future version of numpy, it will be understood as (type, (1,)) / '(1,)type'.\n",
      "  _np_qint8 = np.dtype([(\"qint8\", np.int8, 1)])\n",
      "/usr/local/tensorflow/1.14-0/lib/python3.6/site-packages/tensorboard/compat/tensorflow_stub/dtypes.py:542: FutureWarning: Passing (type, 1) or '1type' as a synonym of type is deprecated; in a future version of numpy, it will be understood as (type, (1,)) / '(1,)type'.\n",
      "  _np_quint8 = np.dtype([(\"quint8\", np.uint8, 1)])\n",
      "/usr/local/tensorflow/1.14-0/lib/python3.6/site-packages/tensorboard/compat/tensorflow_stub/dtypes.py:543: FutureWarning: Passing (type, 1) or '1type' as a synonym of type is deprecated; in a future version of numpy, it will be understood as (type, (1,)) / '(1,)type'.\n",
      "  _np_qint16 = np.dtype([(\"qint16\", np.int16, 1)])\n",
      "/usr/local/tensorflow/1.14-0/lib/python3.6/site-packages/tensorboard/compat/tensorflow_stub/dtypes.py:544: FutureWarning: Passing (type, 1) or '1type' as a synonym of type is deprecated; in a future version of numpy, it will be understood as (type, (1,)) / '(1,)type'.\n",
      "  _np_quint16 = np.dtype([(\"quint16\", np.uint16, 1)])\n",
      "/usr/local/tensorflow/1.14-0/lib/python3.6/site-packages/tensorboard/compat/tensorflow_stub/dtypes.py:545: FutureWarning: Passing (type, 1) or '1type' as a synonym of type is deprecated; in a future version of numpy, it will be understood as (type, (1,)) / '(1,)type'.\n",
      "  _np_qint32 = np.dtype([(\"qint32\", np.int32, 1)])\n",
      "/usr/local/tensorflow/1.14-0/lib/python3.6/site-packages/tensorboard/compat/tensorflow_stub/dtypes.py:550: FutureWarning: Passing (type, 1) or '1type' as a synonym of type is deprecated; in a future version of numpy, it will be understood as (type, (1,)) / '(1,)type'.\n",
      "  np_resource = np.dtype([(\"resource\", np.ubyte, 1)])\n"
     ]
    }
   ],
   "source": [
    "import tensorflow\n",
    "import tensorflow.keras\n",
    "from tensorflow.keras.optimizers import Adam\n",
    "\n",
    "from tensorflow.keras.initializers import RandomNormal\n",
    "from tensorflow.keras.layers import Dense, Conv1D, Flatten, Dropout, ReLU, Input, MaxPooling1D\n",
    "from tensorflow.keras.models import Sequential\n",
    "\n",
    "import numpy as np"
   ]
  },
  {
   "cell_type": "markdown",
   "metadata": {},
   "source": [
    "## LOAD DATABASES, CONCATENATE AND MIX THEM"
   ]
  },
  {
   "cell_type": "code",
   "execution_count": 2,
   "metadata": {},
   "outputs": [],
   "source": [
    "rv = [35,45,55]\n",
    "nr = len(rv)\n",
    "\n",
    "\n",
    "\n",
    "def load_and_shuffle_dbs(rv):\n",
    "    paths = []\n",
    "    for r in rv:\n",
    "        paths.append(f\"/scratch/scarpolini/databases/db_lorenz_{r:.1f}.npy\")\n",
    "    \n",
    "    n_traj = 50000\n",
    "    db = np.ndarray(shape=(nr*n_traj,2000,1))\n",
    "    labels = []\n",
    "    for path,r,i in zip(paths,rv,range(nr)):\n",
    "        db1 = np.load(path)\n",
    "        for j in range(n_traj):\n",
    "            db[i*n_traj + j,:,0] = db1[j,0,:]\n",
    "            labels.append(r)\n",
    "    \n",
    "    labels = np.array(labels)\n",
    "    \n",
    "    def unison_shuffled_copies(a, b):\n",
    "        assert len(a) == len(b)\n",
    "        p = np.random.permutation(len(a))\n",
    "        return a[p], b[p]\n",
    "    \n",
    "    db, labels = unison_shuffled_copies(db, labels)\n",
    "    return db, labels\n",
    "\n",
    "\n",
    "\n",
    "\n",
    "#db, labels = load_and_shuffle_dbs(rv)"
   ]
  },
  {
   "cell_type": "markdown",
   "metadata": {},
   "source": [
    "## CONVERTO LABELS PER DEFINIRE LE CLASSI"
   ]
  },
  {
   "cell_type": "code",
   "execution_count": 3,
   "metadata": {},
   "outputs": [],
   "source": [
    "lM = 60.\n",
    "lm = 10.\n",
    "def norm_labels(labels):\n",
    "    return (labels - lm)/(lM - lm)\n",
    "\n",
    "def denorm_labels(labels):\n",
    "    return labels * (lM - lm) + lm\n",
    "\n",
    "#labels = norm_labels(labels)"
   ]
  },
  {
   "cell_type": "markdown",
   "metadata": {},
   "source": [
    "## PREPROCESSING"
   ]
  },
  {
   "cell_type": "code",
   "execution_count": 4,
   "metadata": {},
   "outputs": [],
   "source": [
    "def preprocess(db):\n",
    "    db = db[:,:,0:1]\n",
    "    #print(db.shape)\n",
    "    M = np.max(db)\n",
    "    m = np.min(db)\n",
    "    #print(f'actual max and min: {M:.2f} and {m:.2f}')\n",
    "    M = 33.45311378674468 # max and min among 10 20 30 40 50 60 databases\n",
    "    m = -33.45763272036239\n",
    "    #print(M,m)\n",
    "    db = (db - m)/(M - m)\n",
    "    M = np.max(db)\n",
    "    m = np.min(db)\n",
    "    #print(M,m)\n",
    "    return db\n",
    "\n",
    "#db = preprocess(db)"
   ]
  },
  {
   "cell_type": "markdown",
   "metadata": {},
   "source": [
    "## VISUALIZE DATA"
   ]
  },
  {
   "cell_type": "code",
   "execution_count": null,
   "metadata": {},
   "outputs": [],
   "source": [
    "import matplotlib.pyplot as plt\n",
    "from mpl_toolkits import mplot3d\n",
    "import numpy as np\n",
    "%matplotlib inline\n",
    "\n",
    "n_traj = 50000\n",
    "n = round(np.random.uniform(n_traj*nr))\n",
    "#n = 35368\n",
    "print(n)\n",
    "traj = db[n,:,:]\n",
    "print(labels[n])\n",
    "plt.plot(traj[:,0])\n",
    "#plt.plot(traj[:,1])\n",
    "#plt.plot(traj[:,2])\n",
    "plt.show()\n",
    "\n",
    "#fig = plt.figure()\n",
    "#ax = plt.axes(projection='3d')\n",
    "#ax.plot3D(traj[:,0],traj[:,1],traj[:,2])"
   ]
  },
  {
   "cell_type": "markdown",
   "metadata": {},
   "source": [
    "## ARCHITETTURA RETE NEURALE"
   ]
  },
  {
   "cell_type": "code",
   "execution_count": 44,
   "metadata": {},
   "outputs": [],
   "source": [
    "opt = Adam(0.00008)#, 0.5)\n",
    "sig_len, channels = len(db[0,:,0]), len(db[0,0,:])\n",
    "fs = 20 # dimensione filtro\n",
    "fm = 8 # numero filtri\n",
    "sigma_init = 0.02 # varianza distribuzione parametri iniziali dei kernel\n",
    "mean_init = 0.\n",
    "def create_desc():\n",
    "    discriminator = Sequential()\n",
    "    #2000x1\n",
    "    discriminator.add(Conv1D(fm, fs, strides=8, padding='same', activation='relu', kernel_initializer=RandomNormal(mean_init, sigma_init), input_shape=(sig_len, channels)))    \n",
    "    #250x8\n",
    "    discriminator.add(Conv1D(fm, fs, strides=8, padding='same', activation='relu', kernel_initializer=RandomNormal(mean_init, sigma_init)))    \n",
    "    #32x8\n",
    "    discriminator.add(Conv1D(fm, fs, strides=4, padding='same', activation='relu', kernel_initializer=RandomNormal(mean_init, sigma_init))) \n",
    "    #8x8\n",
    "    discriminator.add(Flatten())\n",
    "    #64x1\n",
    "    discriminator.add(Dense(8*fm, activation='relu'))\n",
    "    #64x1\n",
    "    discriminator.add(Dense(1, activation='relu'))\n",
    "    #1x1\n",
    "    discriminator.compile(loss='mse', optimizer=opt)\n",
    "    return discriminator\n",
    "\n",
    "desc = create_desc()"
   ]
  },
  {
   "cell_type": "code",
   "execution_count": 45,
   "metadata": {},
   "outputs": [
    {
     "name": "stdout",
     "output_type": "stream",
     "text": [
      "Model: \"sequential_3\"\n",
      "_________________________________________________________________\n",
      "Layer (type)                 Output Shape              Param #   \n",
      "=================================================================\n",
      "conv1d_9 (Conv1D)            (None, 250, 8)            168       \n",
      "_________________________________________________________________\n",
      "conv1d_10 (Conv1D)           (None, 32, 8)             1288      \n",
      "_________________________________________________________________\n",
      "conv1d_11 (Conv1D)           (None, 8, 8)              1288      \n",
      "_________________________________________________________________\n",
      "flatten_3 (Flatten)          (None, 64)                0         \n",
      "_________________________________________________________________\n",
      "dense_6 (Dense)              (None, 64)                4160      \n",
      "_________________________________________________________________\n",
      "dense_7 (Dense)              (None, 1)                 65        \n",
      "=================================================================\n",
      "Total params: 6,969\n",
      "Trainable params: 6,969\n",
      "Non-trainable params: 0\n",
      "_________________________________________________________________\n"
     ]
    }
   ],
   "source": [
    "desc.summary()"
   ]
  },
  {
   "cell_type": "markdown",
   "metadata": {},
   "source": [
    "# TRAINING"
   ]
  },
  {
   "cell_type": "code",
   "execution_count": null,
   "metadata": {},
   "outputs": [],
   "source": [
    "#desc = create_desc()\n",
    "fit_history = desc.fit(db, labels, batch_size=256, epochs=70, verbose=1, validation_split=0.33,\n",
    "                       shuffle=False)#, callbacks=[history])"
   ]
  },
  {
   "cell_type": "code",
   "execution_count": 50,
   "metadata": {},
   "outputs": [
    {
     "name": "stderr",
     "output_type": "stream",
     "text": [
      "/usr/local/tensorflow/1.14-0/lib/python3.6/site-packages/ipykernel_launcher.py:14: MatplotlibDeprecationWarning: \n",
      "The frameon kwarg was deprecated in Matplotlib 3.1 and will be removed in 3.3. Use facecolor instead.\n",
      "  \n"
     ]
    },
    {
     "data": {
      "image/png": "[encoded data removed]",
      "text/plain": [
       "<Figure size 720x360 with 2 Axes>"
      ]
     },
     "metadata": {
      "needs_background": "light"
     },
     "output_type": "display_data"
    }
   ],
   "source": [
    "import matplotlib.pyplot as plt\n",
    "fig, (ax1, ax2) = plt.subplots(1,2, figsize=(10,5))\n",
    "#epoch = fit_history.history\n",
    "epoch = fit_history.history\n",
    "ax1.set_xlabel(\"epochs\")\n",
    "plt.yscale('log')\n",
    "ax1.plot(epoch['loss'], color=\"b\",label=\"training_loss\")\n",
    "ax1.plot(epoch['val_loss'], color=\"r\",label=\"validation_loss\")\n",
    "ax1.set_yscale('log')\n",
    "ax1.legend()\n",
    "plt.savefig(f'plots/training_plot_rho{rv}.png', dpi=220, facecolor='w', edgecolor='w',\n",
    "        orientation='portrait', papertype=None, format=None,\n",
    "        transparent=False, bbox_inches=None, pad_inches=0.1,\n",
    "        frameon=None, metadata=None)"
   ]
  },
  {
   "cell_type": "code",
   "execution_count": 5,
   "metadata": {},
   "outputs": [
    {
     "name": "stderr",
     "output_type": "stream",
     "text": [
      "WARNING: Logging before flag parsing goes to stderr.\n",
      "W0520 13:45:54.340711 47130581720576 deprecation.py:506] From /usr/local/tensorflow/1.14-0/lib/python3.6/site-packages/tensorflow/python/keras/initializers.py:143: calling RandomNormal.__init__ (from tensorflow.python.ops.init_ops) with dtype is deprecated and will be removed in a future version.\n",
      "Instructions for updating:\n",
      "Call initializer instance with the dtype argument instead of passing it to the constructor\n",
      "W0520 13:45:54.343082 47130581720576 deprecation.py:506] From /usr/local/tensorflow/1.14-0/lib/python3.6/site-packages/tensorflow/python/ops/init_ops.py:97: calling Zeros.__init__ (from tensorflow.python.ops.init_ops) with dtype is deprecated and will be removed in a future version.\n",
      "Instructions for updating:\n",
      "Call initializer instance with the dtype argument instead of passing it to the constructor\n",
      "W0520 13:45:54.448506 47130581720576 deprecation.py:506] From /usr/local/tensorflow/1.14-0/lib/python3.6/site-packages/tensorflow/python/ops/init_ops.py:97: calling GlorotUniform.__init__ (from tensorflow.python.ops.init_ops) with dtype is deprecated and will be removed in a future version.\n",
      "Instructions for updating:\n",
      "Call initializer instance with the dtype argument instead of passing it to the constructor\n",
      "W0520 13:45:54.449812 47130581720576 deprecation.py:506] From /usr/local/tensorflow/1.14-0/lib/python3.6/site-packages/tensorflow/python/ops/init_ops.py:1251: calling VarianceScaling.__init__ (from tensorflow.python.ops.init_ops) with dtype is deprecated and will be removed in a future version.\n",
      "Instructions for updating:\n",
      "Call initializer instance with the dtype argument instead of passing it to the constructor\n"
     ]
    }
   ],
   "source": [
    "#desc.save('predictor_10_20_30_40_50_60.h5')\n",
    "from tensorflow.keras.models import load_model\n",
    "desc = load_model('models/predictor_10_20_30_40_50_60.h5')"
   ]
  },
  {
   "cell_type": "markdown",
   "metadata": {},
   "source": [
    "# TESTING"
   ]
  },
  {
   "cell_type": "markdown",
   "metadata": {},
   "source": [
    "### mean and std plot for every r"
   ]
  },
  {
   "cell_type": "code",
   "execution_count": null,
   "metadata": {},
   "outputs": [],
   "source": [
    "def test_prep(rv):\n",
    "    db, labels = load_and_shuffle_dbs(rv)\n",
    "    labels = norm_labels(labels)\n",
    "    db = preprocess(db)\n",
    "    return db, labels\n",
    "\n",
    "rv = [[r] for r in np.arange(10,70,10)]\n",
    "rr = []\n",
    "mm = []\n",
    "ss = []\n",
    "for r in rv:\n",
    "#    try:\n",
    "    db, labels = test_prep(r)\n",
    "    aaa = desc.predict(db)\n",
    "    bbb = denorm_labels(aaa)\n",
    "    \n",
    "    a = []\n",
    "    for aa in bbb:\n",
    "        a.append(aa[0])\n",
    "    bbb_mean = np.mean(a)\n",
    "    bbb_std = np.std(a)\n",
    "    print(f'{r[0]:.1f}   estimated mean: {bbb_mean:.3f}+-{bbb_std:.3f}')\n",
    "    rr.append(r[0])\n",
    "    mm.append(bbb_mean)\n",
    "    ss.append(bbb_std)\n",
    "#    except: print(f'{r[0]} not present')"
   ]
  },
  {
   "cell_type": "code",
   "execution_count": 70,
   "metadata": {},
   "outputs": [
    {
     "data": {
      "image/png": "[encoded data removed]",
      "text/plain": [
       "<Figure size 432x288 with 1 Axes>"
      ]
     },
     "metadata": {
      "needs_background": "light"
     },
     "output_type": "display_data"
    }
   ],
   "source": [
    "import matplotlib.pyplot as plt\n",
    "\n",
    "plt.errorbar(rr, mm, ss)\n",
    "def ff(x): return x\n",
    "xx = np.arange(10,60,0.3)\n",
    "plt.plot(xx, ff(xx))\n",
    "plt.xlabel('rho')\n",
    "plt.ylabel('extimated rho')\n",
    "plt.show()"
   ]
  },
  {
   "cell_type": "markdown",
   "metadata": {},
   "source": [
    "### scatter plot for every r"
   ]
  },
  {
   "cell_type": "code",
   "execution_count": 73,
   "metadata": {},
   "outputs": [
    {
     "name": "stdout",
     "output_type": "stream",
     "text": [
      "10 11 12 13 14 15 16 17 18 19 20 21 22 23 24 25 26 27 28 29 30 31 32 33 34 35 36 37 38 39 40 41 42 43 44 45 46 47 48 49 50 51 52 53 54 55 56 57 58 59 60 "
     ]
    }
   ],
   "source": [
    "def test_prep(rv):\n",
    "    db, labels = load_and_shuffle_dbs(rv)\n",
    "    labels = norm_labels(labels)\n",
    "    db = preprocess(db)\n",
    "    return db, labels\n",
    "\n",
    "rv = [[r] for r in np.arange(10,61,1)]\n",
    "rr = []\n",
    "err = []\n",
    "for r in rv:\n",
    "    db, labels = test_prep(r)\n",
    "    aaa = desc.predict(db)\n",
    "    bbb = denorm_labels(aaa)\n",
    "    \n",
    "    a = []\n",
    "    for aa in bbb:\n",
    "        a.append(aa[0])\n",
    "    for i in range(50000): rr.append(r[0])\n",
    "    err = err + a\n",
    "    print(r[0], end=' ')"
   ]
  },
  {
   "cell_type": "code",
   "execution_count": 74,
   "metadata": {},
   "outputs": [],
   "source": [
    "rr = []\n",
    "for r in rv:\n",
    "    for i in range(50000):\n",
    "        rr.append(r[0])\n",
    "rr1 = []\n",
    "for r in rv:\n",
    "    rr1.append(r[0])"
   ]
  },
  {
   "cell_type": "code",
   "execution_count": 75,
   "metadata": {},
   "outputs": [
    {
     "name": "stderr",
     "output_type": "stream",
     "text": [
      "/usr/local/tensorflow/1.14-0/lib/python3.6/site-packages/ipykernel_launcher.py:22: MatplotlibDeprecationWarning: \n",
      "The frameon kwarg was deprecated in Matplotlib 3.1 and will be removed in 3.3. Use facecolor instead.\n"
     ]
    },
    {
     "data": {
      "image/png": "[encoded data removed]",
      "text/plain": [
       "<Figure size 1296x360 with 2 Axes>"
      ]
     },
     "metadata": {
      "needs_background": "light"
     },
     "output_type": "display_data"
    }
   ],
   "source": [
    "fig, (ax1, ax2) = plt.subplots(1,2, figsize=(18,5))\n",
    "ax1.scatter(rr, err, s=1.7, c='red', marker='o', alpha=0.005)\n",
    "xx = np.arange(10,60,0.3)\n",
    "ax1.plot(xx, xx)\n",
    "ax1.set_xlabel('rho')\n",
    "ax1.set_ylabel('extimated rho')\n",
    "# scatter normalized around zero\n",
    "ax2.scatter(rr, [er-r for er,r in zip(err,rr)], s=2, c='cyan', marker='o', label='tutti i valori')\n",
    "xx = np.arange(10,60,0.3)\n",
    "l, caps, c = ax2.errorbar(rr1, mm - np.array(rr1), ss, lw=0, marker='o', ms=4, elinewidth=1.7, uplims=True, lolims=True, c='red', label='media e varianza')\n",
    "for cap in caps:\n",
    "    cap.set_marker(\"_\")\n",
    "ax2.plot(xx, [0.]*len(xx), c='blue', label='ideale')\n",
    "ax2.set_xlabel('rho')\n",
    "ax2.set_ylabel('extimated rho - real rho')\n",
    "ax2.legend(loc=\"lower left\")\n",
    "\n",
    "fig.suptitle('Scatter plot risultati rete addestrata su parametri\\nrho=10 20 30 40 50 60')\n",
    "fig.savefig(f'plots/scatterplot_predictor.png', dpi=220, facecolor='w', edgecolor='w',\n",
    "            orientation='portrait', papertype=None, format=None,\n",
    "            transparent=False, bbox_inches=None, pad_inches=0.1,\n",
    "            frameon=None, metadata=None)"
   ]
  },
  {
   "cell_type": "markdown",
   "metadata": {},
   "source": [
    "### plot of pdf for a single value of r"
   ]
  },
  {
   "cell_type": "code",
   "execution_count": 76,
   "metadata": {},
   "outputs": [
    {
     "name": "stderr",
     "output_type": "stream",
     "text": [
      "/usr/local/tensorflow/1.14-0/lib/python3.6/site-packages/ipykernel_launcher.py:14: MatplotlibDeprecationWarning: \n",
      "The frameon kwarg was deprecated in Matplotlib 3.1 and will be removed in 3.3. Use facecolor instead.\n",
      "  \n"
     ]
    },
    {
     "data": {
      "image/png": "[encoded data removed]",
      "text/plain": [
       "<Figure size 432x288 with 1 Axes>"
      ]
     },
     "metadata": {
      "needs_background": "light"
     },
     "output_type": "display_data"
    }
   ],
   "source": [
    "import matplotlib.pyplot as plt\n",
    "rv = [30.]\n",
    "nr = len(rv)\n",
    "if nr == 1 :\n",
    "    hist, bins = np.histogram(bbb,bins=120, density=True)\n",
    "    plt.title(f'pdf risultati rete su database rho={rv[0]}\\n(rete addestrata su database rho= 10 20 30 40 50 60)')\n",
    "    plt.xlabel('rho stimato dalla rete')\n",
    "    plt.ylabel('pdf')\n",
    "    plt.plot(bins[:-1],hist)\n",
    "    plt.text(np.min(bins[:-1]),np.max(hist),f'mean={bbb_mean:.3f}')\n",
    "    plt.savefig(f'plots/pdf_predictor_rho{rv[0]}.png', dpi=220, facecolor='w', edgecolor='w',\n",
    "                orientation='portrait', papertype=None, format=None,\n",
    "                transparent=False, bbox_inches=None, pad_inches=0.1,\n",
    "                frameon=None, metadata=None)\n",
    "    plt.show()"
   ]
  },
  {
   "cell_type": "markdown",
   "metadata": {},
   "source": [
    "# Analisi previsioni del modello con rete neurale"
   ]
  },
  {
   "cell_type": "code",
   "execution_count": 7,
   "metadata": {},
   "outputs": [
    {
     "data": {
      "image/png": "[encoded data removed]",
      "text/plain": [
       "<Figure size 432x288 with 1 Axes>"
      ]
     },
     "metadata": {
      "needs_background": "light"
     },
     "output_type": "display_data"
    }
   ],
   "source": [
    "import numpy as np\n",
    "import matplotlib.pyplot as plt\n",
    "\n",
    "def preprocess(db):\n",
    "    db = db.reshape(-1,2000,1)\n",
    "    M = np.max(db)\n",
    "    m = np.min(db)\n",
    "    M = 33.45311378674468 # max and min among 10 20 30 40 50 60 databases\n",
    "    m = -33.45763272036239\n",
    "    db = (db - m)/(M - m)\n",
    "    M = np.max(db)\n",
    "    m = np.min(db)\n",
    "    return db\n",
    "\n",
    "rv = [30, 40, 50, 60]\n",
    "labels = ['r vero = '+str(r) for r in rv]\n",
    "# paths = [f\"/scratch/scarpolini/databases/db_lorenz_{r:.1f}.npy\" for r in rv] #### vere\n",
    "paths = [f\"/scratch/scarpolini/lorenz_wgangp_new/runs/3/gen_trajs.npy\"] #### generate\n",
    "for path, label in zip(paths,labels):\n",
    "    # db = np.load(path)[:,0:1,:] #### vere\n",
    "    db = np.load(path)[:,:,0:1] #### generate\n",
    "    # db = preprocess(db) #### vere\n",
    "    previsione = denorm_labels(desc.predict(db))\n",
    "    plt.hist(previsione, bins=np.arange(25,80,0.05), density=True, alpha=0.5, label=str(54))\n",
    "\n",
    "plt.legend()\n",
    "plt.xlabel('parametro rho')\n",
    "plt.ylabel('pdf')\n",
    "plt.legend()\n",
    "plt.savefig(\"plots/pdf_NN_predictions_training_rho.png\", dpi=220, format='png')\n",
    "plt.show()"
   ]
  },
  {
   "cell_type": "markdown",
   "metadata": {},
   "source": [
    "# ANALISI PESI "
   ]
  },
  {
   "cell_type": "code",
   "execution_count": 12,
   "metadata": {},
   "outputs": [
    {
     "name": "stdout",
     "output_type": "stream",
     "text": [
      "(10, 1, 8)\n",
      "(8,)\n",
      "(10, 8, 8)\n",
      "(8,)\n",
      "(10, 8, 8)\n",
      "(8,)\n",
      "(64, 64)\n",
      "(64,)\n"
     ]
    }
   ],
   "source": [
    "a = desc.get_weights()\n",
    "for i in range(8): \n",
    "    print( a[i].shape )"
   ]
  },
  {
   "cell_type": "code",
   "execution_count": 18,
   "metadata": {},
   "outputs": [
    {
     "data": {
      "text/plain": [
       "<matplotlib.colorbar.Colorbar at 0x2b92860a0518>"
      ]
     },
     "execution_count": 18,
     "metadata": {},
     "output_type": "execute_result"
    },
    {
     "data": {
      "image/png": "[encoded data removed]",
      "text/plain": [
       "<Figure size 432x288 with 2 Axes>"
      ]
     },
     "metadata": {
      "needs_background": "light"
     },
     "output_type": "display_data"
    }
   ],
   "source": [
    "ciccio = a[2].reshape(32,-1)\n",
    "import matplotlib.pyplot as plt\n",
    "plt.imshow(ciccio, aspect=\"auto\")\n",
    "plt.colorbar()"
   ]
  }
 ],
 "metadata": {
  "kernelspec": {
   "display_name": "Python 3",
   "language": "python",
   "name": "python3"
  },
  "language_info": {
   "codemirror_mode": {
    "name": "ipython",
    "version": 3
   },
   "file_extension": ".py",
   "mimetype": "text/x-python",
   "name": "python",
   "nbconvert_exporter": "python",
   "pygments_lexer": "ipython3",
   "version": "3.6.8"
  }
 },
 "nbformat": 4,
 "nbformat_minor": 4
}
