{
 "cells": [
  {
   "cell_type": "code",
   "execution_count": 1,
   "metadata": {},
   "outputs": [],
   "source": [
    "import time\n",
    "import numpy as np\n",
    "from numpy.random import uniform"
   ]
  },
  {
   "cell_type": "code",
   "execution_count": 2,
   "metadata": {},
   "outputs": [
    {
     "name": "stdout",
     "output_type": "stream",
     "text": [
      "t_jump: 1.0\n"
     ]
    }
   ],
   "source": [
    "s = 10.\n",
    "b = 8./3. # descrive proprietà geometriche\n",
    "\n",
    "h = 0.025\n",
    "ti = 0.\n",
    "tf = 50.\n",
    "sig_len = 2000\n",
    "t_jump = (tf-ti)/(sig_len*h)\n",
    "if t_jump%1.0 != 0 : print(\"temporal step problem\")\n",
    "n_traj = 20\n",
    "tv = np.arange(ti,tf,h)\n",
    "nr = 2\n",
    "db = np.ndarray((nr*n_traj,sig_len,3))\n",
    "\n",
    "x = np.ndarray(3)\n",
    "print(f't_jump: {t_jump}')"
   ]
  },
  {
   "cell_type": "code",
   "execution_count": 3,
   "metadata": {},
   "outputs": [],
   "source": [
    "#def f(x,y,z,s): # x'(t) = f(x,y,z)\n",
    "#    return s*( -x + y )\n",
    "#def g(x,y,z,r): # y'(t) = g(x,y,z)\n",
    "#    return r*x - y -x*z\n",
    "#def u(x,y,z,b): # z'(t) = h(x,y,z)\n",
    "#    return -b*z + x*y\n",
    "#\n",
    "#def rk4_3x3(x,y,z,s,r,b): # formula rk4 per sistemi 2x2 nella variante più usata\n",
    "#    aaa = np.ndarray(shape=3)\n",
    "#    k1 = h * f(x,y,z,s)\n",
    "#    l1 = h * g(x,y,z,r)\n",
    "#    w1 = h * u(x,y,z,b)\n",
    "#    k2 = h * f(x+k1/2,y+l1/2,z+w1/2,s)\n",
    "#    l2 = h * g(x+k1/2,y+l1/2,z+w1/2,r)\n",
    "#    w2 = h * u(x+k1/2,y+l1/2,z+w1/2,b)\n",
    "#    k3 = h * f(x+k2/2,y+l2/2,z+w2/2,s)\n",
    "#    l3 = h * g(x+k2/2,y+l2/2,z+w2/2,r)\n",
    "#    w3 = h * u(x+k2/2,y+l2/2,z+w2/2,b)\n",
    "#    k4 = h * f(x+k3,y+l3,z+w3,s)\n",
    "#    l4 = h * g(x+k3,y+l3,z+w3,r)\n",
    "#    w4 = h * u(x+k3,y+l3,z+w3,b)\n",
    "#    xnext = (x + k1/6 + k2/3 + k3/3 + k4/6)\n",
    "#    ynext = (y + l1/6 + l2/3 + l3/3 + l4/6)\n",
    "#    znext = (z + w1/6 + w2/3 + w3/3 + w4/6)\n",
    "#    aaa[:] = xnext,ynext,znext\n",
    "#    return aaa"
   ]
  },
  {
   "cell_type": "code",
   "execution_count": 4,
   "metadata": {},
   "outputs": [],
   "source": [
    "# dbprova = np.ndarray((nr*n_traj,sig_len,3))\n",
    "# rv = [10., 50.]\n",
    "# labels = []\n",
    "# for r in rv:\n",
    "#     labels += [r]*n_traj\n",
    "# labels = np.array(labels)\n",
    "# i=0\n",
    "# h = 0.025/10\n",
    "# tv = np.arange(ti,tf,h)\n",
    "# t_jump = (tf-ti)/(sig_len*h)\n",
    "# for r in rv:\n",
    "#     for k in range(n_traj):\n",
    "#         if k == n_traj - 1 : print(r,k,n_traj,'\\nDONE!')\n",
    "#         else : print(r,k,n_traj, end='\\r')\n",
    "#         x[0] = uniform(-14.0,14.0)\n",
    "#         x[1] = uniform(-22.0,22.0)\n",
    "#         x[2] = uniform(7.0,43.0)\n",
    "#         dbprova[k,0,:] = x\n",
    "#         t_int = 1\n",
    "#         j = 1\n",
    "#         for t in tv:\n",
    "#             x = rk4_3x3(x[0],x[1],x[2],s,r,b)\n",
    "#             if t_int%t_jump==0 :\n",
    "#                 dbprova[i,j,:] = x\n",
    "#                 j += 1\n",
    "#             if j == sig_len: break\n",
    "#             t_int += 1\n",
    "#         i += 1"
   ]
  },
  {
   "cell_type": "code",
   "execution_count": 5,
   "metadata": {},
   "outputs": [],
   "source": [
    "#rvv = [[20.0, 27.5],[10.0, 50.0],[22.5, 26.0]]\n",
    "#for rv in rvv:\n",
    "#    path = f'/scratch/scarpolini/databases/db_lorenz_{rv[0]}_{rv[1]}'\n",
    "#    labels_path = f'/scratch/scarpolini/databases/lorenz_labels_{rv[0]}_{rv[1]}'\n",
    "#    labels = []\n",
    "#    for r in rv:\n",
    "#        labels += [r]*n_traj\n",
    "#    labels = np.array(labels)\n",
    "#    i=0\n",
    "#    db = np.ndarray((nr*n_traj,sig_len,3))\n",
    "#    x = np.ndarray(3)\n",
    "#    for r in rv:\n",
    "#        for k in range(n_traj):\n",
    "#            if k == n_traj - 1 : print(r,k,n_traj,'\\nDONE!')\n",
    "#            elif k%(n_traj/10) == 0 : print(r,k,n_traj,f'\\t time:{time.process_time()/60.:.1f} minutes')\n",
    "#            else : print(r,k,n_traj, end='\\r')\n",
    "#            x[0] = uniform(-14.0,14.0)\n",
    "#            x[1] = uniform(-22.0,22.0)\n",
    "#            x[2] = uniform(7.0,43.0)\n",
    "#            db[k,0,:] = x\n",
    "#            t_int = 1\n",
    "#            j = 1\n",
    "#            for t in tv:\n",
    "#                x = rk4_3x3(x[0],x[1],x[2],s,r,b)\n",
    "#                if t_int%t_jump==0 :\n",
    "#                    db[i,j,:] = x\n",
    "#                    j += 1\n",
    "#                if j == sig_len: break\n",
    "#                t_int += 1\n",
    "#            i += 1\n",
    "#    np.save(labels_path,labels)\n",
    "#    np.save(path, db)"
   ]
  },
  {
   "cell_type": "code",
   "execution_count": 6,
   "metadata": {},
   "outputs": [],
   "source": [
    "# import matplotlib.pyplot as plt\n",
    "# from mpl_toolkits import mplot3d\n",
    "# import numpy as np\n",
    "# %matplotlib inline\n",
    "# \n",
    "# n = round(np.random.uniform(40))\n",
    "# print(n)\n",
    "# # traj = dbprova[n,:,:]\n",
    "# # print(labels[n])\n",
    "# # plt.plot(traj[:,0], color=\"r\")\n",
    "# # #plt.plot(traj[:,1], color=\"r\")\n",
    "# # #plt.plot(traj[:,2], color=\"r\")\n",
    "# traj = db[n,:,:]\n",
    "# print(labels[n])\n",
    "# plt.plot(traj[:,0], color=\"b\")\n",
    "# #plt.plot(traj[:,1], color=\"b\")\n",
    "# #plt.plot(traj[:,2], color=\"b\")\n",
    "# plt.show()\n",
    "# \n",
    "# fig = plt.figure()\n",
    "# ax = plt.axes(projection='3d')\n",
    "# ax.plot3D(traj[:,0],traj[:,1],traj[:,2])"
   ]
  },
  {
   "cell_type": "markdown",
   "metadata": {},
   "source": [
    "VERSIONE CON SCIPY.SOLVE_IVP"
   ]
  },
  {
   "cell_type": "code",
   "execution_count": 32,
   "metadata": {},
   "outputs": [],
   "source": [
    "from scipy.integrate import solve_ivp\n",
    "import numpy as np\n",
    "\n",
    "h = 0.025\n",
    "ti = 0.\n",
    "tf = 50.\n",
    "sig_len = 2000\n",
    "t_jump = (tf-ti)/(sig_len*h)\n",
    "if t_jump%1.0 != 0 : print(\"temporal step problem\")\n",
    "n_traj = 50000\n",
    "tv = np.arange(ti,tf,h)\n",
    "db = np.ndarray((nr*n_traj,sig_len,3))\n",
    "\n",
    "def solve_lorenz(N, rho, sigma=10.0, beta=8./3.):\n",
    "\n",
    "    def lorenz_deriv(t0, x_y_z, sigma=sigma, beta=beta, rho=rho):\n",
    "        x, y, z = x_y_z\n",
    "        return [sigma * (y - x), x * (rho - z) - y, x * y - beta * z]        \n",
    "    \n",
    "    xx = np.ndarray(shape=(N,3))\n",
    "    for i in range(N):\n",
    "        xx[i,:] = np.array([uniform(-14.0,14.0),uniform(-22.0,22.0),uniform(7.0,43.0)])\n",
    "    \n",
    "    a = [solve_ivp(lorenz_deriv, t_span=(0.,50), y0=xxx, method='RK45', t_eval=tv) for xxx in xx]#, dense_output=False, events=None, vectorized=False, args=None, )\n",
    "    \n",
    "    return a"
   ]
  },
  {
   "cell_type": "code",
   "execution_count": 1,
   "metadata": {},
   "outputs": [
    {
     "name": "stdout",
     "output_type": "stream",
     "text": [
      "rv: [22. 24. 26. 28. 30.]\n"
     ]
    }
   ],
   "source": [
    "import numpy as np\n",
    "nr = 5\n",
    "rh = 2.0\n",
    "ri = 22.0\n",
    "rf = 32.0\n",
    "rv = np.arange(ri,rf,rh)\n",
    "if len(rv) != nr : print(\"problem\")\n",
    "print(f\"rv: {rv}\")"
   ]
  },
  {
   "cell_type": "code",
   "execution_count": null,
   "metadata": {},
   "outputs": [],
   "source": [
    "import time\n",
    "\n",
    "db = np.ndarray(shape=(n_traj,3,sig_len))\n",
    "for r in rv:\n",
    "    k = 0\n",
    "    j = 0\n",
    "    for n_batch in range(round(n_traj/500)):\n",
    "        a = solve_lorenz(500, r)\n",
    "        print(f'solved {500*(n_batch+1):6} trajs of {n_traj} for r={r}',end='\\r')\n",
    "        if 500*(n_batch+1) == n_traj: print(f'solved {500*(n_batch+1):6} trajs of {n_traj} for r={r}\\t time:{time.process_time()/60.:.1f} minutes')\n",
    "        for i in range(500):\n",
    "            if a[i].success == True :\n",
    "                db[j,:,:] = a[i].y\n",
    "                j += 1\n",
    "            else : k += 1\n",
    "    np.save(f\"/scratch/scarpolini/databases/db_lorenz_{r:.1f}\",db)\n",
    "    print(\"done!, %d errors\"%k)"
   ]
  },
  {
   "cell_type": "code",
   "execution_count": 31,
   "metadata": {},
   "outputs": [
    {
     "data": {
      "text/plain": [
       "[<matplotlib.lines.Line2D at 0x2b703000ca58>]"
      ]
     },
     "execution_count": 31,
     "metadata": {},
     "output_type": "execute_result"
    },
    {
     "data": {
      "image/png": "[encoded data removed]",
      "text/plain": [
       "<Figure size 432x288 with 1 Axes>"
      ]
     },
     "metadata": {
      "needs_background": "light"
     },
     "output_type": "display_data"
    }
   ],
   "source": [
    "#import matplotlib.pyplot as plt\n",
    "#db = np.load('/scratch/scarpolini/databases/db_lorenz_20.0.npy')\n",
    "#n = round(uniform(1000))\n",
    "#aa = db[n,:,:]\n",
    "#plt.plot(tv,aa[0])\n",
    "#plt.plot(tv,aa[1])\n",
    "#plt.plot(tv,aa[2])"
   ]
  },
  {
   "cell_type": "code",
   "execution_count": null,
   "metadata": {},
   "outputs": [],
   "source": []
  },
  {
   "cell_type": "code",
   "execution_count": null,
   "metadata": {},
   "outputs": [],
   "source": []
  }
 ],
 "metadata": {
  "kernelspec": {
   "display_name": "Python 3",
   "language": "python",
   "name": "python3"
  },
  "language_info": {
   "codemirror_mode": {
    "name": "ipython",
    "version": 3
   },
   "file_extension": ".py",
   "mimetype": "text/x-python",
   "name": "python",
   "nbconvert_exporter": "python",
   "pygments_lexer": "ipython3",
   "version": "3.6.8"
  }
 },
 "nbformat": 4,
 "nbformat_minor": 4
}
