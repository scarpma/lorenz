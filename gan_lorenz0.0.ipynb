{
 "cells": [
  {
   "cell_type": "code",
   "execution_count": 15,
   "metadata": {},
   "outputs": [],
   "source": [
    "import os\n",
    "import tensorflow\n",
    "import tensorflow.keras\n",
    "from tensorflow.keras.optimizers import Adam\n",
    "\n",
    "from tensorflow.keras.initializers import RandomNormal\n",
    "from tensorflow.keras.layers import Dense, Conv1D, Flatten, Dropout, ReLU, Input, MaxPooling1D, Reshape\n",
    "from tensorflow.keras.models import Sequential, Model\n",
    "\n",
    "import numpy as np\n",
    "import time"
   ]
  },
  {
   "cell_type": "markdown",
   "metadata": {},
   "source": [
    "LOAD DATABASES, CONCATENATE AND MIX THEM"
   ]
  },
  {
   "cell_type": "code",
   "execution_count": 27,
   "metadata": {},
   "outputs": [
    {
     "name": "stdout",
     "output_type": "stream",
     "text": [
      "time: 2.8\n"
     ]
    }
   ],
   "source": [
    "sss = time.time()\n",
    "rv = [18.]\n",
    "nr = len(rv)\n",
    "paths = []\n",
    "for r in rv:\n",
    "    paths.append(f\"/scratch/scarpolini/databases/db_lorenz_{r:.1f}.npy\")\n",
    "\n",
    "n_traj = 50000\n",
    "db = np.ndarray(shape=(nr*n_traj,2000,1))\n",
    "labels = []\n",
    "for path,r,i in zip(paths,rv,range(nr)):\n",
    "    db1 = np.load(path)\n",
    "    for j in range(n_traj):\n",
    "        db[i*n_traj + j,:,0] = db1[j,0,:]\n",
    "        labels.append(r)\n",
    "\n",
    "labels = np.array(labels)\n",
    "\n",
    "def unison_shuffled_copies(a, b):\n",
    "    assert len(a) == len(b)\n",
    "    p = np.random.permutation(len(a))\n",
    "    return a[p], b[p]\n",
    "\n",
    "db, labels = unison_shuffled_copies(db, labels)\n",
    "\n",
    "print(f'time: {time.time() - sss:.1f}')"
   ]
  },
  {
   "cell_type": "markdown",
   "metadata": {},
   "source": [
    "PREPROCESSING"
   ]
  },
  {
   "cell_type": "code",
   "execution_count": 28,
   "metadata": {},
   "outputs": [
    {
     "name": "stdout",
     "output_type": "stream",
     "text": [
      "siglen: 2000\n",
      "channels: 1\n",
      "n_traj: 50000\n",
      "first_validation: 33500\n",
      "(33500, 2000, 1)\n",
      "18.01540074798299 -18.031624945549105\n",
      "1.0 0.0\n"
     ]
    }
   ],
   "source": [
    "sig_len = len(db[0,:,0])\n",
    "print(f\"siglen: {sig_len}\")\n",
    "channels = 1 #len(db[0,0,:])\n",
    "print(f\"channels: {channels}\")\n",
    "n_traj = len(db[:,0,0])\n",
    "print((f\"n_traj: {n_traj}\"))\n",
    "validation_split = 0.33\n",
    "first_validation = round((1. - validation_split)*n_traj)\n",
    "print(f\"first_validation: {first_validation}\")\n",
    "db_train = np.ndarray(shape=(first_validation,sig_len,channels))\n",
    "db_test = np.ndarray(shape=(n_traj-first_validation,sig_len,channels))\n",
    "db_train = db[:first_validation,:,0:channels]\n",
    "db_test = db[first_validation:,:,0:channels]\n",
    "del db\n",
    "\n",
    "\n",
    "print(db_train.shape)\n",
    "M = np.max(np.append(db_train, db_test))\n",
    "m = np.min(np.append(db_train, db_test))\n",
    "print(M,m)\n",
    "db_train = (db_train - m)/(M - m)\n",
    "db_test = (db_test - m)/(M - m)\n",
    "M = np.max(db_train)\n",
    "m = np.min(db_test)\n",
    "print(M,m)"
   ]
  },
  {
   "cell_type": "markdown",
   "metadata": {},
   "source": [
    "VISUALIZE DATA"
   ]
  },
  {
   "cell_type": "code",
   "execution_count": 8,
   "metadata": {},
   "outputs": [],
   "source": [
    "import matplotlib.pyplot as plt\n",
    "from mpl_toolkits import mplot3d\n",
    "import numpy as np\n",
    "%matplotlib inline\n",
    "\n",
    "def plot_trajs(noise, epoch=None):\n",
    "    import matplotlib.pyplot as plt\n",
    "    gen_trajs = gen.predict(noise)\n",
    "    plt.figure(figsize=(18, 8))\n",
    "    for i, traj in enumerate(gen_trajs):\n",
    "        plt.subplot(5, 5, i+1)\n",
    "        plt.plot(traj)\n",
    "        plt.axis('off')\n",
    "\n",
    "    plt.tight_layout()\n",
    "    plt.show()\n",
    "    \n",
    "    #fig, (ax1, ax2) = plt.subplots(1,2, figsize=(10,5))\n",
    "    ##epoch = fit_history.history\n",
    "    #epoch = fit_history.history\n",
    "    #ax1.set_xlabel(\"epochs\")\n",
    "    #ax2.set_xlabel(\"epochs\")\n",
    "    #plt.yscale('log')\n",
    "    #ax1.plot(epoch['loss'], color=\"b\",label=\"training_loss\")\n",
    "    #ax1.plot(epoch['val_loss'], color=\"r\",label=\"validation_loss\")\n",
    "    #ax1.legend()\n",
    "    #ax2.plot(epoch['acc'], color=\"b\",label=\"training_accuracy\")\n",
    "    #ax2.plot(epoch['val_acc'], color=\"r\",label=\"validation_accuracy\")\n",
    "    #ax2.legend()\n",
    "\n",
    "#n = round(np.random.uniform(first_validation))\n",
    "##n = 35368\n",
    "#print(n)\n",
    "#traj = db_train[n,:,:]\n",
    "#plt.plot(traj[:,0])\n",
    "##plt.plot(traj[:,1])\n",
    "##plt.plot(traj[:,2])\n",
    "#plt.show()\n"
   ]
  },
  {
   "cell_type": "markdown",
   "metadata": {},
   "source": [
    "ARCHITETTURA RETE NEURALE"
   ]
  },
  {
   "cell_type": "code",
   "execution_count": 29,
   "metadata": {},
   "outputs": [],
   "source": [
    "class Conv1DTranspose(tensorflow.keras.layers.Layer):\n",
    "    def __init__(self, filters, kernel_size, strides=1, padding='valid', kernel_initializer=RandomNormal(0, 0.02)):\n",
    "        super().__init__()\n",
    "        self.conv2dtranspose = tensorflow.keras.layers.Conv2DTranspose(\n",
    "          filters, (kernel_size, 1), (strides, 1), padding, kernel_initializer=RandomNormal(0, 0.02)\n",
    "        )\n",
    "\n",
    "    def call(self, x):\n",
    "        x = tensorflow.expand_dims(x, axis=2)\n",
    "        x = self.conv2dtranspose(x)\n",
    "        x = tensorflow.squeeze(x, axis=2)\n",
    "        return x\n",
    "\n",
    "noise_dim = 100\n",
    "optimizer = Adam(0.0002, 0.5)\n",
    "sig_len, channels = len(db_train[0,:,0]), len(db_train[0,0,:])\n",
    "fs = 20 # dimensione filtro\n",
    "fm = 8 # numero filtri\n",
    "init_sigma = 0.02 # varianza distribuzione parametri iniziali dei kernel\n",
    "\n",
    "def create_gen():\n",
    "    generator = Sequential()\n",
    "    \n",
    "    # Starting size\n",
    "    d = 10\n",
    "    generator.add(Dense(d*8, activation='relu', kernel_initializer=RandomNormal(0, 0.02), input_dim=noise_dim))\n",
    "    generator.add(Reshape((d, fm)))\n",
    "    \n",
    "    generator.add(Conv1DTranspose(4, fs, strides=5, padding='same', kernel_initializer=RandomNormal(0, 0.02)))\n",
    "    \n",
    "    generator.add(Conv1DTranspose(2, fs, strides=5, padding='same', kernel_initializer=RandomNormal(0, 0.02)))\n",
    "    \n",
    "    generator.add(Conv1DTranspose(1, fs, strides=8, padding='same', kernel_initializer=RandomNormal(0, 0.02)))\n",
    "        \n",
    "    generator.compile(loss='binary_crossentropy', metrics=['accuracy'], optimizer=optimizer)\n",
    "    return generator\n",
    "\n",
    "gen = create_gen()"
   ]
  },
  {
   "cell_type": "code",
   "execution_count": 30,
   "metadata": {},
   "outputs": [
    {
     "name": "stdout",
     "output_type": "stream",
     "text": [
      "Model: \"sequential_5\"\n",
      "_________________________________________________________________\n",
      "Layer (type)                 Output Shape              Param #   \n",
      "=================================================================\n",
      "dense_8 (Dense)              (None, 80)                8080      \n",
      "_________________________________________________________________\n",
      "reshape_2 (Reshape)          (None, 10, 8)             0         \n",
      "_________________________________________________________________\n",
      "conv1d_transpose_6 (Conv1DTr (None, 50, 4)             644       \n",
      "_________________________________________________________________\n",
      "conv1d_transpose_7 (Conv1DTr (None, 250, 2)            162       \n",
      "_________________________________________________________________\n",
      "conv1d_transpose_8 (Conv1DTr (None, 2000, 1)           41        \n",
      "=================================================================\n",
      "Total params: 8,927\n",
      "Trainable params: 8,927\n",
      "Non-trainable params: 0\n",
      "_________________________________________________________________\n"
     ]
    }
   ],
   "source": [
    "gen.summary()"
   ]
  },
  {
   "cell_type": "code",
   "execution_count": 31,
   "metadata": {},
   "outputs": [],
   "source": [
    "optimizer = Adam(0.0002, 0.5)\n",
    "sig_len, channels = len(db_train[0,:,0]), len(db_train[0,0,:])\n",
    "fs = 20 # dimensione filtro\n",
    "fm = 8 # numero filtri\n",
    "init_sigma = 0.02 # varianza distribuzione parametri iniziali dei kernel\n",
    "def create_desc():\n",
    "    discriminator = Sequential()\n",
    "    #input:2000x1\n",
    "    discriminator.add(Conv1D(fm, fs, strides=8, padding='same', activation='relu', kernel_initializer=RandomNormal(0, 0.02), input_shape=(sig_len, channels)))    \n",
    "    #input:250x8\n",
    "    discriminator.add(Conv1D(fm, fs, strides=8, padding='same', activation='relu', kernel_initializer=RandomNormal(0, 0.02)))    \n",
    "    #input:32x8\n",
    "    discriminator.add(Conv1D(fm, fs, strides=4, padding='same', activation='relu', kernel_initializer=RandomNormal(0, 0.02)))\n",
    "    #input:8x8\n",
    "    discriminator.add(Flatten())\n",
    "    #8000x1\n",
    "    discriminator.add(Dense(8*fm, activation='relu'))\n",
    "    #discriminator.add(Dropout(0.1))\n",
    "    discriminator.add(Dense(1, activation='softmax'))\n",
    "    #discriminator.add(Dropout(0.1))\n",
    "    #4x1\n",
    "    discriminator.compile(loss='binary_crossentropy', metrics=['accuracy'], optimizer='adam')\n",
    "    return discriminator\n",
    "\n",
    "desc = create_desc()"
   ]
  },
  {
   "cell_type": "code",
   "execution_count": 32,
   "metadata": {},
   "outputs": [
    {
     "name": "stdout",
     "output_type": "stream",
     "text": [
      "Model: \"sequential_6\"\n",
      "_________________________________________________________________\n",
      "Layer (type)                 Output Shape              Param #   \n",
      "=================================================================\n",
      "conv1d_9 (Conv1D)            (None, 250, 8)            168       \n",
      "_________________________________________________________________\n",
      "conv1d_10 (Conv1D)           (None, 32, 8)             1288      \n",
      "_________________________________________________________________\n",
      "conv1d_11 (Conv1D)           (None, 8, 8)              1288      \n",
      "_________________________________________________________________\n",
      "flatten_3 (Flatten)          (None, 64)                0         \n",
      "_________________________________________________________________\n",
      "dense_9 (Dense)              (None, 64)                4160      \n",
      "_________________________________________________________________\n",
      "dense_10 (Dense)             (None, 1)                 65        \n",
      "=================================================================\n",
      "Total params: 6,969\n",
      "Trainable params: 6,969\n",
      "Non-trainable params: 0\n",
      "_________________________________________________________________\n"
     ]
    }
   ],
   "source": [
    "desc.summary()"
   ]
  },
  {
   "cell_type": "code",
   "execution_count": 33,
   "metadata": {},
   "outputs": [],
   "source": [
    "# Make the discriminator untrainable when we are training the generator.  This doesn't effect the discriminator by itself\n",
    "desc.trainable = False\n",
    "\n",
    "# Link the two models to create the GAN\n",
    "gan_input = Input(shape=(noise_dim,))\n",
    "fake_traj = gen(gan_input)\n",
    "\n",
    "gan_output = desc(fake_traj)\n",
    "\n",
    "gan = Model(gan_input, gan_output)\n",
    "optimizer = Adam(0.0002, 0.5)\n",
    "gan.compile(loss='binary_crossentropy', optimizer=optimizer)"
   ]
  },
  {
   "cell_type": "markdown",
   "metadata": {},
   "source": [
    "TRAINING"
   ]
  },
  {
   "cell_type": "code",
   "execution_count": 37,
   "metadata": {},
   "outputs": [
    {
     "data": {
      "text/plain": [
       "[8.433281, 0.0]"
      ]
     },
     "execution_count": 37,
     "metadata": {},
     "output_type": "execute_result"
    }
   ],
   "source": [
    "desc_loss"
   ]
  },
  {
   "cell_type": "code",
   "execution_count": 34,
   "metadata": {},
   "outputs": [
    {
     "name": "stderr",
     "output_type": "stream",
     "text": [
      "W0325 22:40:08.571858 47874792689152 training.py:2197] Discrepancy between trainable weights and collected trainable weights, did you set `model.trainable` without calling `model.compile` after ?\n",
      "W0325 22:40:08.709550 47874792689152 deprecation.py:323] From /usr/local/tensorflow/1.14-0/lib/python3.6/site-packages/tensorflow/python/ops/math_grad.py:1250: add_dispatch_support.<locals>.wrapper (from tensorflow.python.ops.array_ops) is deprecated and will be removed in a future version.\n",
      "Instructions for updating:\n",
      "Use tf.where in 2.0, which has the same broadcast rule as np.where\n"
     ]
    },
    {
     "name": "stdout",
     "output_type": "stream",
     "text": [
      "Epoch: 0 \t Discriminator Loss: [8.433281, 0.0] \t\t Generator Loss: -0.0\n",
      "Epoch: 1 \t Discriminator Loss: [8.433281, 0.0] \t\t Generator Loss: -0.0\n",
      "Epoch:2, batch:231/1000 0.23\r"
     ]
    },
    {
     "ename": "KeyboardInterrupt",
     "evalue": "",
     "output_type": "error",
     "traceback": [
      "\u001b[0;31m---------------------------------------------------------------------------\u001b[0m",
      "\u001b[0;31mKeyboardInterrupt\u001b[0m                         Traceback (most recent call last)",
      "\u001b[0;32m<ipython-input-34-a360b1329a2f>\u001b[0m in \u001b[0;36m<module>\u001b[0;34m\u001b[0m\n\u001b[1;32m     12\u001b[0m         \u001b[0mdesc_labels\u001b[0m\u001b[0;34m[\u001b[0m\u001b[0;34m:\u001b[0m\u001b[0mbatch_size\u001b[0m\u001b[0;34m]\u001b[0m \u001b[0;34m=\u001b[0m \u001b[0;36m0.9\u001b[0m\u001b[0;34m\u001b[0m\u001b[0;34m\u001b[0m\u001b[0m\n\u001b[1;32m     13\u001b[0m \u001b[0;34m\u001b[0m\u001b[0m\n\u001b[0;32m---> 14\u001b[0;31m         \u001b[0mdesc_loss\u001b[0m \u001b[0;34m=\u001b[0m \u001b[0mdesc\u001b[0m\u001b[0;34m.\u001b[0m\u001b[0mtrain_on_batch\u001b[0m\u001b[0;34m(\u001b[0m\u001b[0mx\u001b[0m\u001b[0;34m,\u001b[0m \u001b[0mdesc_labels\u001b[0m\u001b[0;34m)\u001b[0m\u001b[0;34m\u001b[0m\u001b[0;34m\u001b[0m\u001b[0m\n\u001b[0m\u001b[1;32m     15\u001b[0m \u001b[0;34m\u001b[0m\u001b[0m\n\u001b[1;32m     16\u001b[0m         \u001b[0mgen_labels\u001b[0m \u001b[0;34m=\u001b[0m \u001b[0mnp\u001b[0m\u001b[0;34m.\u001b[0m\u001b[0mones\u001b[0m\u001b[0;34m(\u001b[0m\u001b[0mbatch_size\u001b[0m\u001b[0;34m)\u001b[0m\u001b[0;34m\u001b[0m\u001b[0;34m\u001b[0m\u001b[0m\n",
      "\u001b[0;32m/usr/local/tensorflow/1.14-0/lib/python3.6/site-packages/tensorflow/python/keras/engine/training.py\u001b[0m in \u001b[0;36mtrain_on_batch\u001b[0;34m(self, x, y, sample_weight, class_weight, reset_metrics)\u001b[0m\n\u001b[1;32m   1176\u001b[0m \u001b[0;34m\u001b[0m\u001b[0m\n\u001b[1;32m   1177\u001b[0m     \u001b[0;32mif\u001b[0m \u001b[0mreset_metrics\u001b[0m\u001b[0;34m:\u001b[0m\u001b[0;34m\u001b[0m\u001b[0;34m\u001b[0m\u001b[0m\n\u001b[0;32m-> 1178\u001b[0;31m       \u001b[0mself\u001b[0m\u001b[0;34m.\u001b[0m\u001b[0mreset_metrics\u001b[0m\u001b[0;34m(\u001b[0m\u001b[0;34m)\u001b[0m\u001b[0;34m\u001b[0m\u001b[0;34m\u001b[0m\u001b[0m\n\u001b[0m\u001b[1;32m   1179\u001b[0m \u001b[0;34m\u001b[0m\u001b[0m\n\u001b[1;32m   1180\u001b[0m     \u001b[0;32mif\u001b[0m \u001b[0mlen\u001b[0m\u001b[0;34m(\u001b[0m\u001b[0moutputs\u001b[0m\u001b[0;34m)\u001b[0m \u001b[0;34m==\u001b[0m \u001b[0;36m1\u001b[0m\u001b[0;34m:\u001b[0m\u001b[0;34m\u001b[0m\u001b[0;34m\u001b[0m\u001b[0m\n",
      "\u001b[0;32m/usr/local/tensorflow/1.14-0/lib/python3.6/site-packages/tensorflow/python/keras/engine/training.py\u001b[0m in \u001b[0;36mreset_metrics\u001b[0;34m(self)\u001b[0m\n\u001b[1;32m   1082\u001b[0m     \u001b[0;32mif\u001b[0m \u001b[0mhasattr\u001b[0m\u001b[0;34m(\u001b[0m\u001b[0mself\u001b[0m\u001b[0;34m,\u001b[0m \u001b[0;34m'metrics'\u001b[0m\u001b[0;34m)\u001b[0m\u001b[0;34m:\u001b[0m\u001b[0;34m\u001b[0m\u001b[0;34m\u001b[0m\u001b[0m\n\u001b[1;32m   1083\u001b[0m       \u001b[0;32mfor\u001b[0m \u001b[0mm\u001b[0m \u001b[0;32min\u001b[0m \u001b[0mself\u001b[0m\u001b[0;34m.\u001b[0m\u001b[0mmetrics\u001b[0m\u001b[0;34m:\u001b[0m\u001b[0;34m\u001b[0m\u001b[0;34m\u001b[0m\u001b[0m\n\u001b[0;32m-> 1084\u001b[0;31m         \u001b[0mm\u001b[0m\u001b[0;34m.\u001b[0m\u001b[0mreset_states\u001b[0m\u001b[0;34m(\u001b[0m\u001b[0;34m)\u001b[0m\u001b[0;34m\u001b[0m\u001b[0;34m\u001b[0m\u001b[0m\n\u001b[0m\u001b[1;32m   1085\u001b[0m \u001b[0;34m\u001b[0m\u001b[0m\n\u001b[1;32m   1086\u001b[0m     \u001b[0;31m# Reset the state of loss metric wrappers.\u001b[0m\u001b[0;34m\u001b[0m\u001b[0;34m\u001b[0m\u001b[0;34m\u001b[0m\u001b[0m\n",
      "\u001b[0;32m/usr/local/tensorflow/1.14-0/lib/python3.6/site-packages/tensorflow/python/keras/metrics.py\u001b[0m in \u001b[0;36mreset_states\u001b[0;34m(self)\u001b[0m\n\u001b[1;32m    197\u001b[0m     \u001b[0mwhen\u001b[0m \u001b[0ma\u001b[0m \u001b[0mmetric\u001b[0m \u001b[0;32mis\u001b[0m \u001b[0mevaluated\u001b[0m \u001b[0mduring\u001b[0m \u001b[0mtraining\u001b[0m\u001b[0;34m.\u001b[0m\u001b[0;34m\u001b[0m\u001b[0;34m\u001b[0m\u001b[0m\n\u001b[1;32m    198\u001b[0m     \"\"\"\n\u001b[0;32m--> 199\u001b[0;31m     \u001b[0mK\u001b[0m\u001b[0;34m.\u001b[0m\u001b[0mbatch_set_value\u001b[0m\u001b[0;34m(\u001b[0m\u001b[0;34m[\u001b[0m\u001b[0;34m(\u001b[0m\u001b[0mv\u001b[0m\u001b[0;34m,\u001b[0m \u001b[0;36m0\u001b[0m\u001b[0;34m)\u001b[0m \u001b[0;32mfor\u001b[0m \u001b[0mv\u001b[0m \u001b[0;32min\u001b[0m \u001b[0mself\u001b[0m\u001b[0;34m.\u001b[0m\u001b[0mvariables\u001b[0m\u001b[0;34m]\u001b[0m\u001b[0;34m)\u001b[0m\u001b[0;34m\u001b[0m\u001b[0;34m\u001b[0m\u001b[0m\n\u001b[0m\u001b[1;32m    200\u001b[0m \u001b[0;34m\u001b[0m\u001b[0m\n\u001b[1;32m    201\u001b[0m   \u001b[0;34m@\u001b[0m\u001b[0mabc\u001b[0m\u001b[0;34m.\u001b[0m\u001b[0mabstractmethod\u001b[0m\u001b[0;34m\u001b[0m\u001b[0;34m\u001b[0m\u001b[0m\n",
      "\u001b[0;32m/usr/local/tensorflow/1.14-0/lib/python3.6/site-packages/tensorflow/python/keras/backend.py\u001b[0m in \u001b[0;36mbatch_set_value\u001b[0;34m(tuples)\u001b[0m\n\u001b[1;32m   3057\u001b[0m         \u001b[0;32mfor\u001b[0m \u001b[0mx\u001b[0m\u001b[0;34m,\u001b[0m \u001b[0mvalue\u001b[0m \u001b[0;32min\u001b[0m \u001b[0mtuples\u001b[0m\u001b[0;34m:\u001b[0m\u001b[0;34m\u001b[0m\u001b[0;34m\u001b[0m\u001b[0m\n\u001b[1;32m   3058\u001b[0m           \u001b[0mvalue\u001b[0m \u001b[0;34m=\u001b[0m \u001b[0mnp\u001b[0m\u001b[0;34m.\u001b[0m\u001b[0masarray\u001b[0m\u001b[0;34m(\u001b[0m\u001b[0mvalue\u001b[0m\u001b[0;34m,\u001b[0m \u001b[0mdtype\u001b[0m\u001b[0;34m=\u001b[0m\u001b[0mdtype\u001b[0m\u001b[0;34m(\u001b[0m\u001b[0mx\u001b[0m\u001b[0;34m)\u001b[0m\u001b[0;34m)\u001b[0m\u001b[0;34m\u001b[0m\u001b[0;34m\u001b[0m\u001b[0m\n\u001b[0;32m-> 3059\u001b[0;31m           \u001b[0mtf_dtype\u001b[0m \u001b[0;34m=\u001b[0m \u001b[0mdtypes_module\u001b[0m\u001b[0;34m.\u001b[0m\u001b[0mas_dtype\u001b[0m\u001b[0;34m(\u001b[0m\u001b[0mx\u001b[0m\u001b[0;34m.\u001b[0m\u001b[0mdtype\u001b[0m\u001b[0;34m.\u001b[0m\u001b[0mname\u001b[0m\u001b[0;34m.\u001b[0m\u001b[0msplit\u001b[0m\u001b[0;34m(\u001b[0m\u001b[0;34m'_'\u001b[0m\u001b[0;34m)\u001b[0m\u001b[0;34m[\u001b[0m\u001b[0;36m0\u001b[0m\u001b[0;34m]\u001b[0m\u001b[0;34m)\u001b[0m\u001b[0;34m\u001b[0m\u001b[0;34m\u001b[0m\u001b[0m\n\u001b[0m\u001b[1;32m   3060\u001b[0m           \u001b[0;32mif\u001b[0m \u001b[0mhasattr\u001b[0m\u001b[0;34m(\u001b[0m\u001b[0mx\u001b[0m\u001b[0;34m,\u001b[0m \u001b[0;34m'_assign_placeholder'\u001b[0m\u001b[0;34m)\u001b[0m\u001b[0;34m:\u001b[0m\u001b[0;34m\u001b[0m\u001b[0;34m\u001b[0m\u001b[0m\n\u001b[1;32m   3061\u001b[0m             \u001b[0massign_placeholder\u001b[0m \u001b[0;34m=\u001b[0m \u001b[0mx\u001b[0m\u001b[0;34m.\u001b[0m\u001b[0m_assign_placeholder\u001b[0m\u001b[0;34m\u001b[0m\u001b[0;34m\u001b[0m\u001b[0m\n",
      "\u001b[0;32m/usr/local/tensorflow/1.14-0/lib/python3.6/site-packages/tensorflow/python/ops/resource_variable_ops.py\u001b[0m in \u001b[0;36mdtype\u001b[0;34m(self)\u001b[0m\n\u001b[1;32m    794\u001b[0m     \u001b[0;32mreturn\u001b[0m \u001b[0mcopied_variable\u001b[0m\u001b[0;34m\u001b[0m\u001b[0;34m\u001b[0m\u001b[0m\n\u001b[1;32m    795\u001b[0m \u001b[0;34m\u001b[0m\u001b[0m\n\u001b[0;32m--> 796\u001b[0;31m   \u001b[0;34m@\u001b[0m\u001b[0mproperty\u001b[0m\u001b[0;34m\u001b[0m\u001b[0;34m\u001b[0m\u001b[0m\n\u001b[0m\u001b[1;32m    797\u001b[0m   \u001b[0;32mdef\u001b[0m \u001b[0mdtype\u001b[0m\u001b[0;34m(\u001b[0m\u001b[0mself\u001b[0m\u001b[0;34m)\u001b[0m\u001b[0;34m:\u001b[0m\u001b[0;34m\u001b[0m\u001b[0;34m\u001b[0m\u001b[0m\n\u001b[1;32m    798\u001b[0m     \u001b[0;34m\"\"\"The dtype of this variable.\"\"\"\u001b[0m\u001b[0;34m\u001b[0m\u001b[0;34m\u001b[0m\u001b[0m\n",
      "\u001b[0;31mKeyboardInterrupt\u001b[0m: "
     ]
    }
   ],
   "source": [
    "static_noise = np.random.normal(0, 1, size=(25, noise_dim))\n",
    "epochs = 5\n",
    "steps_per_epoch = 1000\n",
    "batch_size = 50\n",
    "for epoch in range(epochs):\n",
    "    for batch in range(steps_per_epoch):\n",
    "        noise = np.random.normal(0, 1, size=(batch_size, noise_dim))\n",
    "        real_x = db_train[np.random.randint(0, db_train.shape[0], size=batch_size)]\n",
    "        fake_x = gen.predict(noise)\n",
    "        x = np.concatenate((real_x, fake_x))\n",
    "        desc_labels = np.zeros(2*batch_size)\n",
    "        desc_labels[:batch_size] = 0.9\n",
    "\n",
    "        desc_loss = desc.train_on_batch(x, desc_labels)\n",
    "\n",
    "        gen_labels = np.ones(batch_size)\n",
    "        gen_loss = gan.train_on_batch(noise, gen_labels)\n",
    "        print(f'Epoch:{epoch}, batch:{batch}/{steps_per_epoch}','%.2f'%(batch/steps_per_epoch), end=\"\\r\")\n",
    "        \n",
    "    print(f'Epoch: {epoch} \\t Discriminator Loss: {desc_loss} \\t\\t Generator Loss: {gen_loss}')\n",
    "    #plot_trajs(static_noise)\n",
    "\n",
    "#history = LossHistory()\n",
    "#fit_history = desc.fit(db, labels, batch_size=256, epochs=20, verbose=1, validation_split=0.33,\n",
    "#                       shuffle=False, callbacks=[history])"
   ]
  },
  {
   "cell_type": "code",
   "execution_count": 64,
   "metadata": {},
   "outputs": [],
   "source": [
    "desc.save('classificatore.h5')\n",
    "#from tensorflow.keras.models import load_model\n",
    "#desc = load_model('classificatore.h5')"
   ]
  },
  {
   "cell_type": "markdown",
   "metadata": {},
   "source": [
    "TESTING"
   ]
  },
  {
   "cell_type": "code",
   "execution_count": 61,
   "metadata": {},
   "outputs": [
    {
     "name": "stdout",
     "output_type": "stream",
     "text": [
      "200000/200000 [==============================] - 8s 42us/sample - loss: 0.0821 - acc: 0.9755\n"
     ]
    },
    {
     "data": {
      "text/plain": [
       "[0.08214032410897315, 0.97548]"
      ]
     },
     "execution_count": 61,
     "metadata": {},
     "output_type": "execute_result"
    }
   ],
   "source": [
    "#n = round(np.random.uniform(0,10000))\n",
    "desc.evaluate(db,labels)\n",
    "#output = desc.predict(db[n:n+1000])\n",
    "#for i in range(100):\n",
    "#    print(f'{n+i:4}',end=\"\\t\")\n",
    "#    print(f'{output[i][0]:1.2g}',end=\"\\t\")\n",
    "#    print(f'{output[i][1]:1.2g}',end=\"\\t\")\n",
    "#    print(f'{labels[n+i]:3}')"
   ]
  },
  {
   "cell_type": "code",
   "execution_count": 62,
   "metadata": {},
   "outputs": [
    {
     "data": {
      "text/plain": [
       "<matplotlib.legend.Legend at 0x2b946ef5db70>"
      ]
     },
     "execution_count": 62,
     "metadata": {},
     "output_type": "execute_result"
    },
    {
     "data": {
      "image/png": "[encoded data removed]",
      "text/plain": [
       "<Figure size 720x360 with 2 Axes>"
      ]
     },
     "metadata": {
      "needs_background": "light"
     },
     "output_type": "display_data"
    }
   ],
   "source": [
    "import matplotlib.pyplot as plt\n",
    "fig, (ax1, ax2) = plt.subplots(1,2, figsize=(10,5))\n",
    "#epoch = fit_history.history\n",
    "epoch = fit_history.history\n",
    "ax1.set_xlabel(\"epochs\")\n",
    "ax2.set_xlabel(\"epochs\")\n",
    "plt.yscale('log')\n",
    "ax1.plot(epoch['loss'], color=\"b\",label=\"training_loss\")\n",
    "ax1.plot(epoch['val_loss'], color=\"r\",label=\"validation_loss\")\n",
    "ax1.legend()\n",
    "ax2.plot(epoch['acc'], color=\"b\",label=\"training_accuracy\")\n",
    "ax2.plot(epoch['val_acc'], color=\"r\",label=\"validation_accuracy\")\n",
    "ax2.legend()"
   ]
  },
  {
   "cell_type": "code",
   "execution_count": 11,
   "metadata": {},
   "outputs": [
    {
     "data": {
      "text/plain": [
       "[<matplotlib.lines.Line2D at 0x2b91c742f400>]"
      ]
     },
     "execution_count": 11,
     "metadata": {},
     "output_type": "execute_result"
    },
    {
     "data": {
      "image/png": "[encoded data removed]",
      "text/plain": [
       "<Figure size 432x288 with 1 Axes>"
      ]
     },
     "metadata": {
      "needs_background": "light"
     },
     "output_type": "display_data"
    }
   ],
   "source": [
    "#fig, (ax1, ax2) = plt.subplots(2,1, figsize=(10,10))\n",
    "#epoch = fit_history.history\n",
    "losses = history.losses\n",
    "val_losses = history.val_losses\n",
    "plt.yscale('log')\n",
    "plt.plot(losses, color=\"b\")\n",
    "plt.plot(val_losses, color=\"r\")\n",
    "#ax2.plot(epoch['acc'], color=\"b\")\n",
    "#ax2.plot(epoch['val_acc'], color=\"r\")"
   ]
  },
  {
   "cell_type": "code",
   "execution_count": 12,
   "metadata": {},
   "outputs": [
    {
     "name": "stdout",
     "output_type": "stream",
     "text": [
      "(10, 1, 8)\n",
      "(8,)\n",
      "(10, 8, 8)\n",
      "(8,)\n",
      "(10, 8, 8)\n",
      "(8,)\n",
      "(64, 64)\n",
      "(64,)\n"
     ]
    }
   ],
   "source": [
    "a = desc.get_weights()\n",
    "for i in range(8): \n",
    "    print( a[i].shape )"
   ]
  },
  {
   "cell_type": "code",
   "execution_count": 18,
   "metadata": {},
   "outputs": [
    {
     "data": {
      "text/plain": [
       "<matplotlib.colorbar.Colorbar at 0x2b92860a0518>"
      ]
     },
     "execution_count": 18,
     "metadata": {},
     "output_type": "execute_result"
    },
    {
     "data": {
      "image/png": "[encoded data removed]",
      "text/plain": [
       "<Figure size 432x288 with 2 Axes>"
      ]
     },
     "metadata": {
      "needs_background": "light"
     },
     "output_type": "display_data"
    }
   ],
   "source": [
    "ciccio = a[2].reshape(32,-1)\n",
    "import matplotlib.pyplot as plt\n",
    "plt.imshow(ciccio, aspect=\"auto\")\n",
    "plt.colorbar()"
   ]
  },
  {
   "cell_type": "code",
   "execution_count": null,
   "metadata": {},
   "outputs": [],
   "source": []
  }
 ],
 "metadata": {
  "kernelspec": {
   "display_name": "Python 3",
   "language": "python",
   "name": "python3"
  },
  "language_info": {
   "codemirror_mode": {
    "name": "ipython",
    "version": 3
   },
   "file_extension": ".py",
   "mimetype": "text/x-python",
   "name": "python",
   "nbconvert_exporter": "python",
   "pygments_lexer": "ipython3",
   "version": "3.6.8"
  }
 },
 "nbformat": 4,
 "nbformat_minor": 4
}
