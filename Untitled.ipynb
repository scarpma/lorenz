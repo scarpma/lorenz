{
 "cells": [
  {
   "cell_type": "code",
   "execution_count": 1,
   "metadata": {},
   "outputs": [],
   "source": [
    "import numpy as np"
   ]
  },
  {
   "cell_type": "code",
   "execution_count": 41,
   "metadata": {},
   "outputs": [
    {
     "data": {
      "text/plain": [
       "(2, 3, 2000)"
      ]
     },
     "execution_count": 41,
     "metadata": {},
     "output_type": "execute_result"
    }
   ],
   "source": [
    "acf1 = np.load('../databases/acfe_lorenz_54.0.npy')\n",
    "acf2 = np.load('../databases/acfe2_lorenz_54.0.npy')\n",
    "acf1.shape"
   ]
  },
  {
   "cell_type": "code",
   "execution_count": 3,
   "metadata": {},
   "outputs": [],
   "source": [
    "import matplotlib.pyplot as plt"
   ]
  },
  {
   "cell_type": "code",
   "execution_count": 43,
   "metadata": {},
   "outputs": [
    {
     "data": {
      "image/png": "[encoded data removed]",
      "text/plain": [
       "<Figure size 432x288 with 1 Axes>"
      ]
     },
     "metadata": {
      "needs_background": "light"
     },
     "output_type": "display_data"
    }
   ],
   "source": [
    "import numpy as np\n",
    "import matplotlib.pyplot as plt\n",
    "\n",
    "xlim = 200\n",
    "#markers = ['o', '^', '>', 's', 'P', '*']\n",
    "#colors = ['blue', 'red', 'green', 'brown', 'cyan', 'purple']\n",
    "### mediati\n",
    "l, caps, c = plt.errorbar(range(xlim),acf1[0,0,:xlim],yerr=acf1[1,0,:xlim], label='old',\n",
    "                             uplims=True, lolims=True)\n",
    "for cap in caps:\n",
    "    cap.set_marker(\"_\")\n",
    "    \n",
    "l, caps, c = plt.errorbar(range(xlim),acf2[0,0,:xlim],yerr=acf2[1,0,:xlim], label='new',\n",
    "                             uplims=True, lolims=True)\n",
    "for cap in caps:\n",
    "    cap.set_marker(\"_\")\n",
    "\n",
    "plt.legend()\n",
    "plt.show()"
   ]
  },
  {
   "cell_type": "code",
   "execution_count": 27,
   "metadata": {},
   "outputs": [
    {
     "data": {
      "text/plain": [
       "array([1.00000000e+00, 9.83380896e-01, 9.36544166e-01, ...,\n",
       "       1.52984416e-05, 1.03397201e-05, 5.51407480e-06])"
      ]
     },
     "execution_count": 27,
     "metadata": {},
     "output_type": "execute_result"
    }
   ],
   "source": [
    "acf1[0,0,:]"
   ]
  },
  {
   "cell_type": "code",
   "execution_count": 28,
   "metadata": {},
   "outputs": [
    {
     "data": {
      "text/plain": [
       "array([1.        , 0.98387283, 0.93748165, ..., 0.01019896, 0.01033972,\n",
       "       0.01102815])"
      ]
     },
     "execution_count": 28,
     "metadata": {},
     "output_type": "execute_result"
    }
   ],
   "source": [
    "acf2[0,0,:]"
   ]
  },
  {
   "cell_type": "code",
   "execution_count": null,
   "metadata": {},
   "outputs": [],
   "source": []
  }
 ],
 "metadata": {
  "kernelspec": {
   "display_name": "Python 3",
   "language": "python",
   "name": "python3"
  },
  "language_info": {
   "codemirror_mode": {
    "name": "ipython",
    "version": 3
   },
   "file_extension": ".py",
   "mimetype": "text/x-python",
   "name": "python",
   "nbconvert_exporter": "python",
   "pygments_lexer": "ipython3",
   "version": "3.6.8"
  }
 },
 "nbformat": 4,
 "nbformat_minor": 4
}
